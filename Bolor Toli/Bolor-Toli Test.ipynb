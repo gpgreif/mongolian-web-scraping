{
 "cells": [
  {
   "cell_type": "code",
   "execution_count": 1,
   "metadata": {},
   "outputs": [],
   "source": [
    "import mechanize\n",
    "import http.cookiejar\n",
    "from bs4 import BeautifulSoup\n",
    "import re\n",
    "\n",
    "import pandas as pd\n",
    "import time"
   ]
  },
  {
   "cell_type": "code",
   "execution_count": 2,
   "metadata": {},
   "outputs": [
    {
     "name": "stdout",
     "output_type": "stream",
     "text": [
      "Ангилал:Монголоор\n"
     ]
    }
   ],
   "source": [
    "# Browser\n",
    "br = mechanize.Browser()\n",
    "\n",
    "# Cookie Jar\n",
    "cj = http.cookiejar.LWPCookieJar()\n",
    "br.set_cookiejar(cj)\n",
    "\n",
    "# Browser options\n",
    "br.set_handle_equiv(True)\n",
    "br.set_handle_gzip(True)\n",
    "br.set_handle_redirect(True)\n",
    "br.set_handle_referer(True)\n",
    "br.set_handle_robots(False)\n",
    "br.set_handle_refresh(mechanize._http.HTTPRefreshProcessor(), max_time=1)\n",
    "\n",
    "br.addheaders = [('User-agent', 'Chrome')]\n",
    "\n",
    "# URL to load\n",
    "url = 'https://mn.wiktionary.org/w/index.php?title=Ангилал:Монголоор&from=А'\n",
    "\n",
    "# Loaded html\n",
    "html = br.open(url).read()\n",
    "\n",
    "# Read html with Beautiful Soup\n",
    "soup = BeautifulSoup(html, 'html.parser')\n",
    "\n",
    "# Find and print title to check we have loaded correctly\n",
    "print(soup.find('h1').string.strip())"
   ]
  },
  {
   "cell_type": "code",
   "execution_count": 4,
   "metadata": {},
   "outputs": [
    {
     "data": {
      "text/plain": [
       "0                                  а\n",
       "1                                 аа\n",
       "2                                аав\n",
       "3                           аавархах\n",
       "4                             аавсаг\n",
       "                    ...             \n",
       "6393                           яйшин\n",
       "6394                              ял\n",
       "6396     ял хүндрүүлэх нөхцөл байдал\n",
       "6397    ял хөнгөрүүлэх нөхцөл байдал\n",
       "6398             ял шийтгэлгүй болох\n",
       "Length: 5523, dtype: object"
      ]
     },
     "execution_count": 4,
     "metadata": {},
     "output_type": "execute_result"
    }
   ],
   "source": [
    "# Letters of Mongolian alphabet\n",
    "tolgoi = [\"А\", \"Б\", \"В\", \"Г\", \"Д\", \"Е\", \"Ё\", \"Ж\",\n",
    "          \"З\", \"И\", \"Й\", \"К\", \"Л\", \"М\", \"Н\", \"О\",\n",
    "          \"Ө\", \"П\", \"Р\", \"С\", \"Т\", \"У\", \"Ү\", \"Ф\", \n",
    "          \"Х\", \"Ц\", \"Ч\", \"Ш\", \"Щ\", \"Э\", \"Ю\", \"Я\",]\n",
    "\n",
    "# List to contain words\n",
    "words = []\n",
    "\n",
    "for letter in tolgoi:\n",
    "    \n",
    "    # URL to load\n",
    "    url = 'https://mn.wiktionary.org/w/index.php?title=Ангилал:Монголоор&from=' + letter\n",
    "\n",
    "    # Loaded html\n",
    "    html = br.open(url).read()\n",
    "\n",
    "    # Read html with Beautiful Soup\n",
    "    soup = BeautifulSoup(html, 'html.parser')\n",
    "    \n",
    "    for element in soup.find('div', id='mw-pages').contents[9].contents[0].find_all('a'):\n",
    "        words1.append(element.string.strip())\n",
    "\n",
    "words = pd.Series(words1).str.lower().drop_duplicates()\n",
    "words"
   ]
  },
  {
   "cell_type": "code",
   "execution_count": null,
   "metadata": {},
   "outputs": [],
   "source": []
  },
  {
   "cell_type": "code",
   "execution_count": 21,
   "metadata": {},
   "outputs": [
    {
     "data": {
      "text/plain": [
       "'баатар'"
      ]
     },
     "execution_count": 21,
     "metadata": {},
     "output_type": "execute_result"
    }
   ],
   "source": [
    "words1[268]"
   ]
  },
  {
   "cell_type": "markdown",
   "metadata": {},
   "source": [
    "Edit to allow for saving multiple example sentences"
   ]
  },
  {
   "cell_type": "code",
   "execution_count": 81,
   "metadata": {},
   "outputs": [],
   "source": [
    "df = pd.DataFrame({'Mongolian': words1[:3318], 'English': translation})\n",
    "df = df[df['English'] != '']\n",
    "df.to_excel('bolor_toli_test.xlsx', index=False)\n",
    "df = pd.DataFrame({'Mongolian': examples_mn, 'English': examples_en})\n",
    "df = df[df['Mongolian'] != '']\n",
    "df.to_excel('bolor_toli_test_examples.xlsx', index=False)"
   ]
  },
  {
   "cell_type": "markdown",
   "metadata": {},
   "source": [
    "# Sandbox"
   ]
  },
  {
   "cell_type": "code",
   "execution_count": 12,
   "metadata": {},
   "outputs": [
    {
     "name": "stdout",
     "output_type": "stream",
     "text": [
      "<div>цэцгийн тухай ном: a book about flowers</div>\n",
      "<div>цэцгийн тухай ном: a book about flowers</div><div>ирээдүйн тухай тодорхой бус санаа бодол: nebulous ideas about the future</div>\n",
      "<div>цэцгийн тухай ном: a book about flowers</div><div>ирээдүйн тухай тодорхой бус санаа бодол: nebulous ideas about the future</div><div>ямар нэг юмны тухай шийдвэр: a decision on sth.</div>\n",
      "<div>цэцгийн тухай ном: a book about flowers</div><div>ирээдүйн тухай тодорхой бус санаа бодол: nebulous ideas about the future</div><div>ямар нэг юмны тухай шийдвэр: a decision on sth.</div><div>ямар нэг юмны тухай шийдвэр: a decision on smth.</div>\n",
      "<div>цэцгийн тухай ном: a book about flowers</div><div>ирээдүйн тухай тодорхой бус санаа бодол: nebulous ideas about the future</div><div>ямар нэг юмны тухай шийдвэр: a decision on sth.</div><div>ямар нэг юмны тухай шийдвэр: a decision on smth.</div><div>цөмийн туршилтыг хориглох тухай гэрээ: treaty on ban of nuclear test</div>\n",
      "<div>цэцгийн тухай ном: a book about flowers</div><div>ирээдүйн тухай тодорхой бус санаа бодол: nebulous ideas about the future</div><div>ямар нэг юмны тухай шийдвэр: a decision on sth.</div><div>ямар нэг юмны тухай шийдвэр: a decision on smth.</div><div>цөмийн туршилтыг хориглох тухай гэрээ: treaty on ban of nuclear test</div><div>төлбөр хойшлуулах тухай хүсэлт: request for delay of payment</div>\n",
      "<div>цэцгийн тухай ном: a book about flowers</div><div>ирээдүйн тухай тодорхой бус санаа бодол: nebulous ideas about the future</div><div>ямар нэг юмны тухай шийдвэр: a decision on sth.</div><div>ямар нэг юмны тухай шийдвэр: a decision on smth.</div><div>цөмийн туршилтыг хориглох тухай гэрээ: treaty on ban of nuclear test</div><div>төлбөр хойшлуулах тухай хүсэлт: request for delay of payment</div><div>нөхөрлөлийн тухай хэлэлцээр: treaty of friendship</div>\n",
      "<div>цэцгийн тухай ном: a book about flowers</div><div>ирээдүйн тухай тодорхой бус санаа бодол: nebulous ideas about the future</div><div>ямар нэг юмны тухай шийдвэр: a decision on sth.</div><div>ямар нэг юмны тухай шийдвэр: a decision on smth.</div><div>цөмийн туршилтыг хориглох тухай гэрээ: treaty on ban of nuclear test</div><div>төлбөр хойшлуулах тухай хүсэлт: request for delay of payment</div><div>нөхөрлөлийн тухай хэлэлцээр: treaty of friendship</div><div>ослын тухай мэдээ: a report of the accident</div>\n",
      "about\n"
     ]
    }
   ],
   "source": [
    "# The site we will navigate into, handling it's session\n",
    "br.open('http://www.bolor-toli.com/')\n",
    "\n",
    "# List for storing translations\n",
    "translation = []\n",
    "examples_mn = []\n",
    "examples_en = []\n",
    "examples = []\n",
    "\n",
    "for word in ['тухай']:\n",
    "    \n",
    "    # Select the second (index one) form\n",
    "    br.select_form(nr=1)\n",
    "\n",
    "    # Search\n",
    "    br.form['search'] = word\n",
    "    br.submit()\n",
    "\n",
    "    # html to read\n",
    "    html = br.response().read()\n",
    "    \n",
    "    # Read html with Beautiful Soup\n",
    "    soup = BeautifulSoup(html, 'html.parser')\n",
    "    \n",
    "    if soup.find(class_='link-string') != None:\n",
    "        tr = soup.find(class_='link-string').string\n",
    "        translation.append(tr)\n",
    "        \n",
    "        # Find example sentence if it exists\n",
    "        examples = soup.find_all(class_='blank-td')\n",
    "        \n",
    "        if examples != []:\n",
    "            mn = ''\n",
    "            en = ''\n",
    "            ex = ''\n",
    "            for example in examples:\n",
    "                mn = example.next_sibling.next_sibling.string.strip()\n",
    "                en = example.next_sibling.next_sibling.next_sibling.next_sibling.string.strip()\n",
    "                ex += '<p>' + mn + ': ' + en + '</p>'\n",
    "                print(ex)\n",
    "            examples_mn.append(mn)\n",
    "            examples_en.append(en)\n",
    "            examples.append(ex)\n",
    "        else:\n",
    "            examples_mn.append(\"\")\n",
    "            examples_en.append(\"\")\n",
    "            examples.append(\"\")\n",
    "        \n",
    "        print(tr)\n",
    "    else:\n",
    "        translation.append(\"\")\n",
    "        examples_mn.append(\"\")\n",
    "        examples_en.append(\"\")\n",
    "        examples.append(\"\")\n",
    "        print('Not available')\n",
    "\n",
    "translation = pd.Series(translation).str.lower()\n",
    "examples_mn = pd.Series(examples_mn).str.lower()\n",
    "examples_en = pd.Series(examples_en).str.lower()\n",
    "examples = pd.Series(examples)"
   ]
  },
  {
   "cell_type": "code",
   "execution_count": null,
   "metadata": {},
   "outputs": [],
   "source": []
  },
  {
   "cell_type": "code",
   "execution_count": 8,
   "metadata": {},
   "outputs": [
    {
     "name": "stdout",
     "output_type": "stream",
     "text": [
      "цэцгийн тухай ном\n",
      "ирээдүйн тухай тодорхой бус санаа бодол\n",
      "ямар нэг юмны тухай шийдвэр\n",
      "ямар нэг юмны тухай шийдвэр\n",
      "цөмийн туршилтыг хориглох тухай гэрээ\n",
      "төлбөр хойшлуулах тухай хүсэлт\n",
      "нөхөрлөлийн тухай хэлэлцээр\n",
      "ослын тухай мэдээ\n"
     ]
    }
   ],
   "source": [
    "for element in soup.find_all(class_='blank-td'):\n",
    "    print(element.next_sibling.next_sibling.string.strip())"
   ]
  }
 ],
 "metadata": {
  "kernelspec": {
   "display_name": "Python 3",
   "language": "python",
   "name": "python3"
  },
  "language_info": {
   "codemirror_mode": {
    "name": "ipython",
    "version": 3
   },
   "file_extension": ".py",
   "mimetype": "text/x-python",
   "name": "python",
   "nbconvert_exporter": "python",
   "pygments_lexer": "ipython3",
   "version": "3.8.5"
  }
 },
 "nbformat": 4,
 "nbformat_minor": 4
}
